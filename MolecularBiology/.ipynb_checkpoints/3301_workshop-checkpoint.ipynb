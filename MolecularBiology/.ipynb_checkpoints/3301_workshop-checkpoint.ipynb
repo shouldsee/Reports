{
 "cells": [
  {
   "cell_type": "code",
   "execution_count": 16,
   "metadata": {
    "collapsed": false
   },
   "outputs": [],
   "source": [
    "import matplotlib,numpy,scipy,math as m"
   ]
  },
  {
   "cell_type": "code",
   "execution_count": 47,
   "metadata": {
    "collapsed": false
   },
   "outputs": [
    {
     "name": "stdout",
     "output_type": "stream",
     "text": [
      "0.8333333333333334\n"
     ]
    }
   ],
   "source": [
    "a=5./6.\n",
    "int(a)\n",
    "round(a,5)\n",
    "print(a)\n",
    "m.sqrt(a**2)\n",
    "x='foo'\n",
    "x[0]\n",
    "x[1:5]\n",
    "\n",
    "len(x)\n",
    "x.upper()\n",
    "\n",
    "\n",
    "#x[0]='1'\n"
   ]
  },
  {
   "cell_type": "code",
   "execution_count": 1,
   "metadata": {
    "collapsed": false
   },
   "outputs": [
    {
     "ename": "NameError",
     "evalue": "name 'x' is not defined",
     "output_type": "error",
     "traceback": [
      "\u001b[0;31m---------------------------------------------------------------------------\u001b[0m",
      "\u001b[0;31mNameError\u001b[0m                                 Traceback (most recent call last)",
      "\u001b[0;32m<ipython-input-1-460b87d64532>\u001b[0m in \u001b[0;36m<module>\u001b[0;34m()\u001b[0m\n\u001b[0;32m----> 1\u001b[0;31m \u001b[0ml\u001b[0m\u001b[0;34m=\u001b[0m\u001b[0mx\u001b[0m\u001b[0;34m.\u001b[0m\u001b[0msplit\u001b[0m\u001b[0;34m(\u001b[0m\u001b[0;34m'o'\u001b[0m\u001b[0;34m)\u001b[0m\u001b[0;34m\u001b[0m\u001b[0m\n\u001b[0m\u001b[1;32m      2\u001b[0m \u001b[0ml\u001b[0m\u001b[0;34m.\u001b[0m\u001b[0mremove\u001b[0m\u001b[0;34m(\u001b[0m\u001b[0;34m''\u001b[0m\u001b[0;34m)\u001b[0m\u001b[0;34m\u001b[0m\u001b[0m\n\u001b[1;32m      3\u001b[0m \u001b[0ml\u001b[0m\u001b[0;34m.\u001b[0m\u001b[0mcount\u001b[0m\u001b[0;34m(\u001b[0m\u001b[0;36m1\u001b[0m\u001b[0;34m)\u001b[0m\u001b[0;34m\u001b[0m\u001b[0m\n\u001b[1;32m      4\u001b[0m \u001b[0;31m# l.__add__(['1'])\u001b[0m\u001b[0;34m\u001b[0m\u001b[0;34m\u001b[0m\u001b[0m\n\u001b[1;32m      5\u001b[0m \u001b[0;31m# dir(l)\u001b[0m\u001b[0;34m\u001b[0m\u001b[0;34m\u001b[0m\u001b[0m\n",
      "\u001b[0;31mNameError\u001b[0m: name 'x' is not defined"
     ]
    }
   ],
   "source": [
    "l=x.split('o')\n",
    "l.remove('')\n",
    "l.count(1)\n",
    "# l.__add__(['1'])\n",
    "# dir(l)\n",
    "print(dir(l))"
   ]
  },
  {
   "cell_type": "code",
   "execution_count": 228,
   "metadata": {
    "collapsed": false
   },
   "outputs": [],
   "source": [
    "codon_table  = {\"GCA\":\"A\", \"GCC\":\"A\", \"GCG\":\"A\", \"GCU\":\"A\",\n",
    "                \"UGC\":\"C\", \"UGU\":\"C\", \"GAC\":\"D\", \"GAU\":\"D\",\n",
    "                \"GAA\":\"E\", \"GAG\":\"E\", \"UUC\":\"F\", \"UUU\":\"F\",\n",
    "                \"GGA\":\"G\", \"GGC\":\"G\", \"GGG\":\"G\", \"GGU\":\"G\",\n",
    "                \"CAC\":\"H\", \"CAU\":\"H\", \"AUA\":\"I\", \"AUC\":\"I\",\n",
    "                \"AUU\":\"I\", \"AAA\":\"K\", \"AAG\":\"K\", \"UUA\":\"L\",\n",
    "                \"UUG\":\"L\", \"CUA\":\"L\", \"CUC\":\"L\", \"CUG\":\"L\",\n",
    "                \"CUU\":\"L\", \"AUG\":\"M\", \"AAC\":\"N\", \"AAU\":\"N\",\n",
    "                \"CCA\":\"P\", \"CCC\":\"P\" ,\"CCG\":\"P\", \"CCU\":\"P\",\n",
    "                \"CAA\":\"Q\", \"CAG\":\"Q\", \"AGA\":\"R\", \"AGG\":\"R\",\n",
    "                \"CGA\":\"R\", \"CGC\":\"R\", \"CGU\":\"R\", \"CGG\":\"R\",\n",
    "                \"AGC\":\"S\", \"AGU\":\"S\", \"UCA\":\"S\", \"UCC\":\"S\",\n",
    "                \"UCG\":\"S\", \"UCU\":\"S\", \"ACA\":\"T\", \"ACC\":\"T\",\n",
    "                \"ACG\":\"T\", \"ACU\":\"T\", \"GUA\":\"V\", \"GUC\":\"V\",\n",
    "                \"GUG\":\"V\", \"GUU\":\"V\", \"UGG\":\"W\", \"UAC\":\"Y\",\n",
    "                \"UAU\":\"Y\", \"UAG\":\"!\", \"UAA\":\"!\", \"UGA\":\"!\"};\n",
    "\n",
    "\n",
    "def complement(DNA):\n",
    "    cp={'A':'T','T':'A','C':'G','G':'C','U':'A',};\n",
    "    cDNA='';\n",
    "    for x in DNA:\n",
    "        cDNA+=cp[x];\n",
    "    return cDNA\n",
    "\n",
    "def readDNA(fname):\n",
    "    DNA='';\n",
    "    f=open(fname,'r');\n",
    "    for line in f.readlines():\n",
    "        l=line.upper().strip('\\n')\n",
    "        DNA=DNA+''.join(l).upper();\n",
    "    return DNA\n",
    "\n",
    "def DNA2RNA(DNA):\n",
    "    T2U={'A':'A','T':'U','C':'C','G':'G'};\n",
    "    RNA='';\n",
    "    RNA=RNA+''.join(list([T2U[char] for char in DNA]));\n",
    "    return RNA\n",
    "\n",
    "def RNA2prot(seq,sind):\n",
    "    pep='';\n",
    "    translate=0;\n",
    "    if len(seq)%3!=0:\n",
    "        print('seqlen %d not divisible by 3'%(len(seq)))\n",
    "        return\n",
    "    if sind>=0:\n",
    "        pass\n",
    "    else:\n",
    "#         sind=-sind;\n",
    "        seq=DNA2RNA(complement(seq[::-1]));\n",
    "        \n",
    "    csind=abs(sind)%3;\n",
    "    print(seq[csind:30])\n",
    "    for x in range(csind,len(seq),3):\n",
    "#         print()\n",
    "        try:\n",
    "            codon=seq[x:x+3];\n",
    "            res=codon_table[codon];\n",
    "            if res=='!':\n",
    "#                 break\n",
    "                pass\n",
    "            elif res=='M':\n",
    "                translate=1;\n",
    "                pep+=res;\n",
    "            elif translate:\n",
    "                pep+=res;\n",
    "        except:\n",
    "            pass\n",
    "    if pep=='':\n",
    "        pep='/';\n",
    "    return(pep);\n",
    "    "
   ]
  },
  {
   "cell_type": "code",
   "execution_count": 238,
   "metadata": {
    "collapsed": false
   },
   "outputs": [
    {
     "name": "stdout",
     "output_type": "stream",
     "text": [
      "AUGCCGCCCUCCAUCUCAGCUUUCCAGGCC\n",
      "MPPSISAFQAAYIGIEVLIALVSVPGNVLVIWAVKVNQALRDATFCFIVSLAVADVAVGALVIPLAILINIGPQTYFHTCLMVACPVLILTQSSILALLAIAVDRYLRVKIPLRYKMVVTPRRAAVAIAGCWILSFVVGLTPMFGWNNLSAVERAWAANGSMGEPVIKCEFEKVISMEYMVYFNFFVWVLPPLLLMVLIYLEVFYLIRKQLNKKVSASSGDPQKYYGKELKIAKSLALILFLFALSWLPLHILNCITLFCPSCHKPSILTYIAIFLTHGNSAMNPIVYAFRIQKFRVTFLKIWNDHFRCQPAPPIDEDLPEERPDD\n"
     ]
    }
   ],
   "source": [
    "fname='cds_adora1.txt';\n",
    "DNA=readDNA(fname);\n",
    "RNA=DNA2RNA(DNA);\n",
    "prot=RNA2prot(RNA,0);\n",
    "# print(prot)\n",
    "# open(fname,'r').read()"
   ]
  }
 ],
 "metadata": {
  "kernelspec": {
   "display_name": "Python 3",
   "language": "python",
   "name": "python3"
  },
  "language_info": {
   "codemirror_mode": {
    "name": "ipython",
    "version": 3
   },
   "file_extension": ".py",
   "mimetype": "text/x-python",
   "name": "python",
   "nbconvert_exporter": "python",
   "pygments_lexer": "ipython3",
   "version": "3.5.2"
  }
 },
 "nbformat": 4,
 "nbformat_minor": 1
}
